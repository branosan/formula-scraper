{
 "cells": [
  {
   "cell_type": "markdown",
   "metadata": {},
   "source": [
    "# Test processing entities in the csv file"
   ]
  },
  {
   "cell_type": "markdown",
   "metadata": {},
   "source": [
    "## Data preprocessing"
   ]
  },
  {
   "cell_type": "code",
   "execution_count": 2,
   "metadata": {},
   "outputs": [],
   "source": [
    "import pandas as pd\n",
    "import re"
   ]
  },
  {
   "cell_type": "code",
   "execution_count": 2,
   "metadata": {},
   "outputs": [],
   "source": [
    "df = pd.read_csv('../procesed_data/entities.csv', sep=';')\n",
    "df = df.dropna()\n",
    "df['POS'].replace('-', -1, inplace=True)\n",
    "df['POS'] = df['POS'].astype(int)\n",
    "df['LAPS'] = df['LAPS'].astype(int)\n",
    "df['GRID'] = df['GRID'].astype(int)"
   ]
  },
  {
   "cell_type": "code",
   "execution_count": 44,
   "metadata": {},
   "outputs": [
    {
     "data": {
      "text/html": [
       "<div>\n",
       "<style scoped>\n",
       "    .dataframe tbody tr th:only-of-type {\n",
       "        vertical-align: middle;\n",
       "    }\n",
       "\n",
       "    .dataframe tbody tr th {\n",
       "        vertical-align: top;\n",
       "    }\n",
       "\n",
       "    .dataframe thead th {\n",
       "        text-align: right;\n",
       "    }\n",
       "</style>\n",
       "<table border=\"1\" class=\"dataframe\">\n",
       "  <thead>\n",
       "    <tr style=\"text-align: right;\">\n",
       "      <th></th>\n",
       "      <th>YEAR</th>\n",
       "      <th>GP NAME</th>\n",
       "      <th>POS</th>\n",
       "      <th>DRIVER NAME</th>\n",
       "      <th>TEAM NAME</th>\n",
       "      <th>LAP TIME</th>\n",
       "      <th>GRID</th>\n",
       "      <th>LAPS</th>\n",
       "      <th>POINTS</th>\n",
       "    </tr>\n",
       "  </thead>\n",
       "  <tbody>\n",
       "    <tr>\n",
       "      <th>0</th>\n",
       "      <td>1973</td>\n",
       "      <td>italian-grand-prix</td>\n",
       "      <td>1</td>\n",
       "      <td>#2 Ronnie Peterson</td>\n",
       "      <td>Team Lotus</td>\n",
       "      <td>1:29:17.0</td>\n",
       "      <td>1</td>\n",
       "      <td>55</td>\n",
       "      <td>9.0</td>\n",
       "    </tr>\n",
       "    <tr>\n",
       "      <th>1</th>\n",
       "      <td>1973</td>\n",
       "      <td>italian-grand-prix</td>\n",
       "      <td>2</td>\n",
       "      <td>#1 Emerson Fittipaldi</td>\n",
       "      <td>Team Lotus</td>\n",
       "      <td>+0.8</td>\n",
       "      <td>4</td>\n",
       "      <td>55</td>\n",
       "      <td>6.0</td>\n",
       "    </tr>\n",
       "    <tr>\n",
       "      <th>2</th>\n",
       "      <td>1973</td>\n",
       "      <td>italian-grand-prix</td>\n",
       "      <td>3</td>\n",
       "      <td>#8 Peter Revson</td>\n",
       "      <td>McLaren</td>\n",
       "      <td>+28.8</td>\n",
       "      <td>2</td>\n",
       "      <td>55</td>\n",
       "      <td>4.0</td>\n",
       "    </tr>\n",
       "    <tr>\n",
       "      <th>3</th>\n",
       "      <td>1973</td>\n",
       "      <td>italian-grand-prix</td>\n",
       "      <td>4</td>\n",
       "      <td>#5 Jackie Stewart</td>\n",
       "      <td>Tyrrell</td>\n",
       "      <td>+33.2</td>\n",
       "      <td>6</td>\n",
       "      <td>55</td>\n",
       "      <td>3.0</td>\n",
       "    </tr>\n",
       "    <tr>\n",
       "      <th>4</th>\n",
       "      <td>1973</td>\n",
       "      <td>italian-grand-prix</td>\n",
       "      <td>5</td>\n",
       "      <td>#6 François Cevert</td>\n",
       "      <td>Tyrrell</td>\n",
       "      <td>+46.2</td>\n",
       "      <td>11</td>\n",
       "      <td>55</td>\n",
       "      <td>2.0</td>\n",
       "    </tr>\n",
       "  </tbody>\n",
       "</table>\n",
       "</div>"
      ],
      "text/plain": [
       "   YEAR             GP NAME  POS            DRIVER NAME   TEAM NAME  \\\n",
       "0  1973  italian-grand-prix    1     #2 Ronnie Peterson  Team Lotus   \n",
       "1  1973  italian-grand-prix    2  #1 Emerson Fittipaldi  Team Lotus   \n",
       "2  1973  italian-grand-prix    3        #8 Peter Revson     McLaren   \n",
       "3  1973  italian-grand-prix    4      #5 Jackie Stewart     Tyrrell   \n",
       "4  1973  italian-grand-prix    5     #6 François Cevert     Tyrrell   \n",
       "\n",
       "    LAP TIME  GRID  LAPS  POINTS  \n",
       "0  1:29:17.0     1    55     9.0  \n",
       "1       +0.8     4    55     6.0  \n",
       "2      +28.8     2    55     4.0  \n",
       "3      +33.2     6    55     3.0  \n",
       "4      +46.2    11    55     2.0  "
      ]
     },
     "execution_count": 44,
     "metadata": {},
     "output_type": "execute_result"
    }
   ],
   "source": [
    "df.head()"
   ]
  },
  {
   "cell_type": "code",
   "execution_count": 45,
   "metadata": {},
   "outputs": [],
   "source": [
    "df.to_csv('../procesed_data/df_entities.csv', sep=';', index=False)"
   ]
  },
  {
   "cell_type": "code",
   "execution_count": 3,
   "metadata": {},
   "outputs": [],
   "source": [
    "df = pd.read_csv('../data/procesed_data/df_entities.csv', sep=';')"
   ]
  },
  {
   "cell_type": "markdown",
   "metadata": {},
   "source": [
    "## Data queries\n",
    "Ideas what to look for:\n",
    "- in what races have to drivers met\n",
    "    - find all rows with specified drivers and return those with matching year and gp name\n",
    "- look for a specific grand prix and return driver with the most wins at that grand prix\n",
    "- find a driver with the most ammount of __second__ places when starting from __first__\n",
    "- find if and when were two pilots collegues"
   ]
  },
  {
   "cell_type": "code",
   "execution_count": 4,
   "metadata": {},
   "outputs": [],
   "source": [
    "pilot1 = 'leclerc'\n",
    "pilot2 = 'Lewis Hamilton'\n",
    "year = 2019\n",
    "\n",
    "def find_pairs(df, p1, p2):\n",
    "    filtered_p1 = df[df['DRIVER NAME'].str.contains(p1, case=False)]\n",
    "    filtered_p2 = df[df['DRIVER NAME'].str.contains(p2, case=False)]\n",
    "    \n",
    "    filtered_p1 = filtered_p1[filtered_p1['YEAR'] == year]\n",
    "    filtered_p2 = filtered_p2[filtered_p2['YEAR'] == year]\n",
    "\n",
    "    pairs = filtered_p1.merge(filtered_p2, on=['YEAR', 'GP NAME'])\n",
    "    return pairs[['YEAR', 'GP NAME']].head()\n"
   ]
  },
  {
   "cell_type": "code",
   "execution_count": 5,
   "metadata": {},
   "outputs": [
    {
     "name": "stdout",
     "output_type": "stream",
     "text": [
      "leclerc and Lewis Hamilton raced together in:\n",
      "   YEAR                   GP NAME\n",
      "0  2019        russian-grand-prix\n",
      "1  2019  united-states-grand-prix\n",
      "2  2019         monaco-grand-prix\n",
      "3  2019      hungarian-grand-prix\n",
      "4  2019         french-grand-prix\n"
     ]
    }
   ],
   "source": [
    "print(f'{pilot1} and {pilot2} raced together in:')\n",
    "print(find_pairs(df, pilot1, pilot2))"
   ]
  },
  {
   "cell_type": "code",
   "execution_count": 25,
   "metadata": {},
   "outputs": [],
   "source": [
    "gp = 'Italian'\n",
    "\n",
    "def find_entity_wiki(name):\n",
    "    url = 'https://en.wikipedia.org/wiki/'\n",
    "    path = url + '_'.join(name.split(' ')[1:]).title()\n",
    "    page = None\n",
    "    try:\n",
    "        with open(f'../data/{path}/page.txt', 'r') as f:\n",
    "            page = f.read()\n",
    "    except FileNotFoundError:\n",
    "        return None\n",
    "    wins_reges = r'[wW]ins(\\d+)'\n",
    "    wins = re.findall(wins_reges, page)\n",
    "    if len(wins) == 0:\n",
    "        return None\n",
    "    return wins[0]\n",
    "\n",
    "def find_most_wins(df, gp_name, group_by_tag='DRIVER NAME'):\n",
    "    filtered = None\n",
    "    try:\n",
    "        filtered = df[(df['GP NAME'].str.contains(gp_name, case=False)) & (df['POS'] == 1)]\n",
    "        filtered = filtered.groupby([group_by_tag]).size().reset_index(name='counts')\n",
    "        filtered = filtered.sort_values(by=['counts'], ascending=False)\n",
    "        # filtered.iloc[0, 0]\n",
    "        # x == row\n",
    "        # y == column\n",
    "        filtered['WINS'] = filtered['DRIVER NAME'].apply(find_entity_wiki)\n",
    "        return filtered.head()\n",
    "    except KeyError:\n",
    "        print('Wrong group_by_tag provided')\n",
    "        return 'No drivers found'"
   ]
  },
  {
   "cell_type": "code",
   "execution_count": 26,
   "metadata": {},
   "outputs": [
    {
     "name": "stdout",
     "output_type": "stream",
     "text": [
      "              DRIVER NAME  counts WINS\n",
      "38     #44 Lewis Hamilton       2  103\n",
      "3       #1 Max Verstappen       2   49\n",
      "4   #1 Michael Schumacher       2   91\n",
      "7     #1 Sebastian Vettel       2   53\n",
      "33  #3 Michael Schumacher       2   91\n"
     ]
    }
   ],
   "source": [
    "print(find_most_wins(df, gp))"
   ]
  },
  {
   "cell_type": "code",
   "execution_count": 103,
   "metadata": {},
   "outputs": [],
   "source": [
    "pilot1 = 'Bottas'\n",
    "pilot2 = 'Lewis Hamilton'\n",
    "\n",
    "def find_collegues(df, p1, p2):\n",
    "    filtered_p1 = df[df['DRIVER NAME'].str.contains(p1, case=False)]\n",
    "    filtered_p2 = df[df['DRIVER NAME'].str.contains(p2, case=False)]\n",
    "\n",
    "    pairs = filtered_p1.merge(filtered_p2, on=['YEAR', 'TEAM NAME'])\n",
    "    return pairs.drop_duplicates(subset=['YEAR', 'TEAM NAME'])[['YEAR', 'TEAM NAME']].sort_values(by=['YEAR'])"
   ]
  },
  {
   "cell_type": "code",
   "execution_count": 104,
   "metadata": {},
   "outputs": [
    {
     "name": "stdout",
     "output_type": "stream",
     "text": [
      "     YEAR TEAM NAME\n",
      "0    2017  Mercedes\n",
      "701  2018  Mercedes\n",
      "289  2019  Mercedes\n",
      "545  2020  Mercedes\n",
      "897  2021  Mercedes\n"
     ]
    }
   ],
   "source": [
    "print(find_collegues(df, pilot1, pilot2))"
   ]
  },
  {
   "cell_type": "code",
   "execution_count": 26,
   "metadata": {},
   "outputs": [
    {
     "data": {
      "text/html": [
       "<div>\n",
       "<style scoped>\n",
       "    .dataframe tbody tr th:only-of-type {\n",
       "        vertical-align: middle;\n",
       "    }\n",
       "\n",
       "    .dataframe tbody tr th {\n",
       "        vertical-align: top;\n",
       "    }\n",
       "\n",
       "    .dataframe thead th {\n",
       "        text-align: right;\n",
       "    }\n",
       "</style>\n",
       "<table border=\"1\" class=\"dataframe\">\n",
       "  <thead>\n",
       "    <tr style=\"text-align: right;\">\n",
       "      <th></th>\n",
       "      <th>YEAR</th>\n",
       "      <th>GP NAME</th>\n",
       "      <th>POS</th>\n",
       "      <th>DRIVER NAME</th>\n",
       "      <th>TEAM NAME</th>\n",
       "      <th>LAP TIME</th>\n",
       "      <th>GRID</th>\n",
       "      <th>LAPS</th>\n",
       "      <th>POINTS</th>\n",
       "    </tr>\n",
       "  </thead>\n",
       "  <tbody>\n",
       "    <tr>\n",
       "      <th>0</th>\n",
       "      <td>1973</td>\n",
       "      <td>italian-grand-prix</td>\n",
       "      <td>1</td>\n",
       "      <td>#2 Ronnie Peterson</td>\n",
       "      <td>Team Lotus</td>\n",
       "      <td>1:29:17.0</td>\n",
       "      <td>1</td>\n",
       "      <td>55</td>\n",
       "      <td>9.0</td>\n",
       "    </tr>\n",
       "    <tr>\n",
       "      <th>1</th>\n",
       "      <td>1973</td>\n",
       "      <td>italian-grand-prix</td>\n",
       "      <td>2</td>\n",
       "      <td>#1 Emerson Fittipaldi</td>\n",
       "      <td>Team Lotus</td>\n",
       "      <td>+0.8</td>\n",
       "      <td>4</td>\n",
       "      <td>55</td>\n",
       "      <td>6.0</td>\n",
       "    </tr>\n",
       "    <tr>\n",
       "      <th>2</th>\n",
       "      <td>1973</td>\n",
       "      <td>italian-grand-prix</td>\n",
       "      <td>3</td>\n",
       "      <td>#8 Peter Revson</td>\n",
       "      <td>McLaren</td>\n",
       "      <td>+28.8</td>\n",
       "      <td>2</td>\n",
       "      <td>55</td>\n",
       "      <td>4.0</td>\n",
       "    </tr>\n",
       "    <tr>\n",
       "      <th>3</th>\n",
       "      <td>1973</td>\n",
       "      <td>italian-grand-prix</td>\n",
       "      <td>4</td>\n",
       "      <td>#5 Jackie Stewart</td>\n",
       "      <td>Tyrrell</td>\n",
       "      <td>+33.2</td>\n",
       "      <td>6</td>\n",
       "      <td>55</td>\n",
       "      <td>3.0</td>\n",
       "    </tr>\n",
       "    <tr>\n",
       "      <th>4</th>\n",
       "      <td>1973</td>\n",
       "      <td>italian-grand-prix</td>\n",
       "      <td>5</td>\n",
       "      <td>#6 François Cevert</td>\n",
       "      <td>Tyrrell</td>\n",
       "      <td>+46.2</td>\n",
       "      <td>11</td>\n",
       "      <td>55</td>\n",
       "      <td>2.0</td>\n",
       "    </tr>\n",
       "  </tbody>\n",
       "</table>\n",
       "</div>"
      ],
      "text/plain": [
       "   YEAR             GP NAME  POS            DRIVER NAME   TEAM NAME  \\\n",
       "0  1973  italian-grand-prix    1     #2 Ronnie Peterson  Team Lotus   \n",
       "1  1973  italian-grand-prix    2  #1 Emerson Fittipaldi  Team Lotus   \n",
       "2  1973  italian-grand-prix    3        #8 Peter Revson     McLaren   \n",
       "3  1973  italian-grand-prix    4      #5 Jackie Stewart     Tyrrell   \n",
       "4  1973  italian-grand-prix    5     #6 François Cevert     Tyrrell   \n",
       "\n",
       "    LAP TIME  GRID  LAPS  POINTS  \n",
       "0  1:29:17.0     1    55     9.0  \n",
       "1       +0.8     4    55     6.0  \n",
       "2      +28.8     2    55     4.0  \n",
       "3      +33.2     6    55     3.0  \n",
       "4      +46.2    11    55     2.0  "
      ]
     },
     "execution_count": 26,
     "metadata": {},
     "output_type": "execute_result"
    }
   ],
   "source": [
    "df.head()"
   ]
  },
  {
   "cell_type": "code",
   "execution_count": 38,
   "metadata": {},
   "outputs": [],
   "source": [
    "url = 'https://en.wikipedia.org/wiki/'"
   ]
  },
  {
   "cell_type": "code",
   "execution_count": 33,
   "metadata": {},
   "outputs": [],
   "source": [
    "name = df.iloc[0, 3]"
   ]
  },
  {
   "cell_type": "code",
   "execution_count": 39,
   "metadata": {},
   "outputs": [
    {
     "data": {
      "text/plain": [
       "'https://en.wikipedia.org/wiki/Ronnie_Peterson'"
      ]
     },
     "execution_count": 39,
     "metadata": {},
     "output_type": "execute_result"
    }
   ],
   "source": [
    "url + '_'.join(name.split(' ')[1:]).title()"
   ]
  },
  {
   "cell_type": "code",
   "execution_count": 4,
   "metadata": {},
   "outputs": [],
   "source": [
    "p1 = 'fernando alonso'\n",
    "p2 = 'mark webber'\n",
    "title = '2005 malaysian grand prix'\n",
    "\n",
    "def find_wins(p1, p2, title):\n",
    "    results = []\n",
    "    year = title.split(' ')[0]\n",
    "    gp_name = '-'.join(title.split(' ')[1:]).lower()\n",
    "    print(gp_name)\n",
    "\n",
    "    filtered_p1 = df[(df['DRIVER NAME'].str.contains(p1, case=False)) & (df['YEAR'] == int(year)) & (df['GP NAME']==gp_name)]\n",
    "    filtered_p2 = df[(df['DRIVER NAME'].str.contains(p2, case=False)) & (df['YEAR'] == int(year)) & (df['GP NAME']==gp_name)]\n",
    "    pairs = filtered_p1.merge(filtered_p2, on=['YEAR', 'GP NAME'])\n",
    "    # check if both pilots finished the race\n",
    "    pos_x = 'DNF' if pairs['POS_x'][0] < 0 else pairs['POS_x'][0]\n",
    "    pos_y = 'DNF' if pairs['POS_y'][0] < 0 else pairs['POS_y'][0]\n",
    "    # add print statement to results\n",
    "    results.append(f'{year} {gp_name}\\n{p1.title()} Finished: {pos_x}\\n{p2.title()} Finished: {pos_y}')\n",
    "    _ = [print(r) for r in results]"
   ]
  },
  {
   "cell_type": "code",
   "execution_count": 5,
   "metadata": {},
   "outputs": [
    {
     "name": "stdout",
     "output_type": "stream",
     "text": [
      "malaysian-grand-prix\n",
      "2005 malaysian-grand-prix\n",
      "Fernando Alonso Finished: 1\n",
      "Mark Webber Finished: DNF\n"
     ]
    }
   ],
   "source": [
    "find_wins(p1, p2, title)"
   ]
  },
  {
   "cell_type": "code",
   "execution_count": 37,
   "metadata": {},
   "outputs": [
    {
     "data": {
      "text/plain": [
       "2"
      ]
     },
     "execution_count": 37,
     "metadata": {},
     "output_type": "execute_result"
    }
   ],
   "source": [
    "df['POS'][1]"
   ]
  },
  {
   "cell_type": "code",
   "execution_count": null,
   "metadata": {},
   "outputs": [],
   "source": []
  }
 ],
 "metadata": {
  "kernelspec": {
   "display_name": "vinf_venv",
   "language": "python",
   "name": "python3"
  },
  "language_info": {
   "codemirror_mode": {
    "name": "ipython",
    "version": 3
   },
   "file_extension": ".py",
   "mimetype": "text/x-python",
   "name": "python",
   "nbconvert_exporter": "python",
   "pygments_lexer": "ipython3",
   "version": "3.9.6"
  }
 },
 "nbformat": 4,
 "nbformat_minor": 2
}
